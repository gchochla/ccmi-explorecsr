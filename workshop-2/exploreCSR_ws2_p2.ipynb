{
  "nbformat": 4,
  "nbformat_minor": 0,
  "metadata": {
    "colab": {
      "name": "exploreCSR_ws2_p2.ipynb",
      "provenance": []
    },
    "kernelspec": {
      "name": "python3",
      "display_name": "Python 3"
    }
  },
  "cells": [
    {
      "cell_type": "code",
      "metadata": {
        "id": "vuaZ-jx33gc_"
      },
      "source": [
        "import tensorflow as tf\r\n",
        "from tensorflow import keras\r\n",
        "import numpy as np\r\n",
        "import matplotlib.pyplot as plt\r\n",
        "from collections import Counter"
      ],
      "execution_count": null,
      "outputs": []
    },
    {
      "cell_type": "code",
      "metadata": {
        "id": "ka39At1w3Db2"
      },
      "source": [
        "A more complicated example:"
      ],
      "execution_count": null,
      "outputs": []
    },
    {
      "cell_type": "code",
      "metadata": {
        "colab": {
          "base_uri": "https://localhost:8080/",
          "height": 302
        },
        "id": "MhBRcCxU3eiI",
        "outputId": "312d4355-9753-458a-d7df-a4e724f755c0"
      },
      "source": [
        "fashion_mnist = keras.datasets.fashion_mnist\r\n",
        "(train_images, train_labels), (test_images, test_labels) = fashion_mnist.load_data()\r\n",
        "\r\n",
        "plt.axis('off')\r\n",
        "plt.imshow(train_images[1],cmap='gray')"
      ],
      "execution_count": null,
      "outputs": [
        {
          "output_type": "stream",
          "text": [
            "Training label distribution: Counter({9: 6000, 0: 6000, 3: 6000, 2: 6000, 7: 6000, 5: 6000, 1: 6000, 6: 6000, 4: 6000, 8: 6000})\n",
            "Training set shape: (60000, 28, 28)\n"
          ],
          "name": "stdout"
        },
        {
          "output_type": "display_data",
          "data": {
            "image/png": "[encoded data removed]",
            "text/plain": [
              "<Figure size 432x288 with 1 Axes>"
            ]
          },
          "metadata": {
            "tags": [],
            "needs_background": "light"
          }
        }
      ]
    },
    {
      "cell_type": "code",
      "metadata": {
        "colab": {
          "base_uri": "https://localhost:8080/"
        },
        "id": "raBda4ku3sWk",
        "outputId": "303f784a-ab29-4279-b0cb-5f7595a9e77f"
      },
      "source": [
        "num_pixels = 28 * 28  \r\n",
        "train_images = train_images.reshape( (60000, num_pixels) ).astype(np.float32) / 255.0\r\n",
        "test_images = test_images.reshape( (10000, num_pixels) ).astype(np.float32)  / 255.0\r\n",
        "\r\n",
        "print('Training label distribution:', Counter(train_labels))\r\n",
        "print('Training set shape:', train_images.shape)\r\n",
        "print('Test set shape:', test_images.shape)"
      ],
      "execution_count": null,
      "outputs": [
        {
          "output_type": "stream",
          "text": [
            "Training label distribution: Counter({9: 6000, 0: 6000, 3: 6000, 2: 6000, 7: 6000, 5: 6000, 1: 6000, 6: 6000, 4: 6000, 8: 6000})\n",
            "Training set shape: (60000, 784)\n",
            "Test set shape: (10000, 784)\n"
          ],
          "name": "stdout"
        }
      ]
    },
    {
      "cell_type": "code",
      "metadata": {
        "colab": {
          "base_uri": "https://localhost:8080/"
        },
        "id": "jgI6jHJP-k-q",
        "outputId": "144d5329-42cb-4f06-948c-518bfbeb65af"
      },
      "source": [
        "model = keras.Sequential([\r\n",
        "    keras.layers.Input(shape=(num_pixels,), name='images'), # Input layer (28*28 input nodes, one for each pixel)\r\n",
        "    keras.layers.Dense(128, activation='relu'), # A single dense layer\r\n",
        "    keras.layers.Dense(10, activation='softmax') # And an output layer, with 10 nodes, for the 10 classes\r\n",
        "])\r\n",
        "\r\n",
        "model.compile(optimizer='adam', loss='sparse_categorical_crossentropy', metrics=['accuracy'])\r\n",
        "\r\n",
        "# Train the model\r\n",
        "results = model.fit(train_images,  train_labels, batch_size=32, epochs=3, validation_split=0.1) # Splits off 10% of the training data for validation\r\n",
        "\r\n",
        "# Predict on the test set using the trained model\r\n",
        "\r\n",
        "test_loss, test_acc = model.evaluate(test_images,  test_labels, verbose=2)\r\n",
        "\r\n",
        "print('Test Loss:', test_loss)\r\n",
        "print('Test accuracy:', test_acc)"
      ],
      "execution_count": null,
      "outputs": [
        {
          "output_type": "stream",
          "text": [
            "Epoch 1/3\n",
            "1688/1688 [==============================] - 4s 2ms/step - loss: 0.6454 - accuracy: 0.7784 - val_loss: 0.4079 - val_accuracy: 0.8537\n",
            "Epoch 2/3\n",
            "1688/1688 [==============================] - 3s 2ms/step - loss: 0.3907 - accuracy: 0.8596 - val_loss: 0.3663 - val_accuracy: 0.8658\n",
            "Epoch 3/3\n",
            "1688/1688 [==============================] - 4s 2ms/step - loss: 0.3388 - accuracy: 0.8789 - val_loss: 0.3456 - val_accuracy: 0.8693\n",
            "313/313 - 0s - loss: 0.3715 - accuracy: 0.8669\n",
            "Test Loss: 0.371520459651947\n",
            "Test accuracy: 0.8669000267982483\n"
          ],
          "name": "stdout"
        }
      ]
    },
    {
      "cell_type": "code",
      "metadata": {
        "colab": {
          "base_uri": "https://localhost:8080/",
          "height": 367
        },
        "id": "TpF57IVWBbo9",
        "outputId": "1c63a0da-8ef3-48fe-ce54-efa77e3d53e9"
      },
      "source": [
        "predictions = model.predict(test_images[:2])\r\n",
        "print('Class probabilities - example 1:\\n', predictions[0])\r\n",
        "print('Class probabilities - example 2:\\n', predictions[1])\r\n",
        "\r\n",
        "# Let's take a look:\r\n",
        "plt.axis('off')\r\n",
        "plt.imshow(test_images[0].reshape((28,28)),cmap='gray')"
      ],
      "execution_count": null,
      "outputs": [
        {
          "output_type": "stream",
          "text": [
            "Class probabilities - example 1:\n",
            " [3.0844155e-06 4.2037112e-08 3.2444659e-06 5.5933555e-07 4.8409065e-06\n",
            " 1.7515933e-02 8.8915958e-06 2.2961700e-02 3.4693885e-04 9.5915484e-01]\n",
            "Class probabilities - example 2:\n",
            " [1.5901214e-04 1.7426208e-09 9.9200749e-01 1.0397575e-06 5.6487392e-03\n",
            " 3.0104602e-10 2.1836457e-03 6.8939238e-12 1.5886897e-07 2.8586022e-11]\n"
          ],
          "name": "stdout"
        },
        {
          "output_type": "execute_result",
          "data": {
            "text/plain": [
              "<matplotlib.image.AxesImage at 0x7f805013de10>"
            ]
          },
          "metadata": {
            "tags": []
          },
          "execution_count": 18
        },
        {
          "output_type": "display_data",
          "data": {
            "image/png": "[encoded data removed]",
            "text/plain": [
              "<Figure size 432x288 with 1 Axes>"
            ]
          },
          "metadata": {
            "tags": [],
            "needs_background": "light"
          }
        }
      ]
    }
  ]
}